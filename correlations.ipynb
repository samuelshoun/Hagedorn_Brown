{
 "cells": [
  {
   "cell_type": "code",
   "execution_count": 16,
   "id": "official-meter",
   "metadata": {},
   "outputs": [],
   "source": [
    "import numpy as np\n",
    "import pandas as pd\n",
    "import matplotlib.pyplot as plt\n",
    "import json"
   ]
  },
  {
   "cell_type": "markdown",
   "id": "daily-theta",
   "metadata": {},
   "source": [
    "### Holdup Factor"
   ]
  },
  {
   "cell_type": "code",
   "execution_count": 37,
   "id": "industrial-jonathan",
   "metadata": {},
   "outputs": [],
   "source": [
    "def get_holdup_factor(x):\n",
    "    with open('data/holdup_factor_points.json', 'r') as f:\n",
    "        points = json.load(f)\n",
    "    xp = np.asarray(points[0])\n",
    "    xpmin = xp.min()\n",
    "    xpmax = xp.max()\n",
    "    fp = points[1]\n",
    "    if x >= xpmin and x <= xpmax:\n",
    "        return np.interp(x, xp, fp)\n",
    "    else:\n",
    "        print('Outside of valid input range\\nInput value should be between {} and {}'.format(xpmin, xpmax))"
   ]
  },
  {
   "cell_type": "code",
   "execution_count": 38,
   "id": "essential-tradition",
   "metadata": {},
   "outputs": [
    {
     "name": "stdout",
     "output_type": "stream",
     "text": [
      "Outside of valid input range\n",
      "Input value should be between 2.27e-05 and 0.054524941\n"
     ]
    }
   ],
   "source": [
    "get_holdup_factor(5)"
   ]
  }
 ],
 "metadata": {
  "kernelspec": {
   "display_name": "Python 3",
   "language": "python",
   "name": "python3"
  },
  "language_info": {
   "codemirror_mode": {
    "name": "ipython",
    "version": 3
   },
   "file_extension": ".py",
   "mimetype": "text/x-python",
   "name": "python",
   "nbconvert_exporter": "python",
   "pygments_lexer": "ipython3",
   "version": "3.7.9"
  }
 },
 "nbformat": 4,
 "nbformat_minor": 5
}
